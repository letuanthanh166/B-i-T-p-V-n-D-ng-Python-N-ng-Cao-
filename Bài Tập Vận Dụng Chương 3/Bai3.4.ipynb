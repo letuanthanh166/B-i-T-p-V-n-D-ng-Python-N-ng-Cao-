{
 "cells": [
  {
   "cell_type": "code",
   "execution_count": 5,
   "metadata": {},
   "outputs": [
    {
     "name": "stdout",
     "output_type": "stream",
     "text": [
      "mảng có 10 phần tử là 0 :\n",
      "[0. 0. 0. 0. 0. 0. 0. 0. 0. 0.]\n",
      "Cập nhập phần tử ở vị trí thứ 5 là 1 : \n",
      "[0. 0. 0. 0. 1. 0. 0. 0. 0. 0.]\n"
     ]
    }
   ],
   "source": [
    "import numpy as np \n",
    "\n",
    "#1. Tạo arr_zeros có 10 phần tử 0, cập nhật phần tử ở vị trí thứ 5 là 1.\n",
    "\n",
    "# Tạo mảng có 10 phần tử là 0 : \n",
    "\n",
    "arr_zeros = np.zeros(10)\n",
    "\n",
    "print('mảng có 10 phần tử là 0 :')\n",
    "print(arr_zeros)\n",
    "\n",
    "# Cập nhật phần tử ở vị trí thứ 5 là 1.\n",
    "\n",
    "arr_zeros[4] = 1\n",
    "\n",
    "print('Cập nhập phần tử ở vị trí thứ 5 là 1 : ')\n",
    "\n",
    "print(arr_zeros)\n",
    "\n",
    "\n",
    "\n",
    "\n"
   ]
  },
  {
   "cell_type": "code",
   "execution_count": 12,
   "metadata": {},
   "outputs": [
    {
     "name": "stdout",
     "output_type": "stream",
     "text": [
      "Mảng arr_h từ 10 đến 24 là : \n",
      "[10 11 12 13 14 15 16 17 18 19 20 21 22 23 24]\n",
      "Danh sách các phần tử theo thứ tự đảo ngược của arr_h là : [24 23 22 21 20 19 18 17 16 15 14 13 12 11 10]\n"
     ]
    }
   ],
   "source": [
    "#2. Tạo arr_h có giá trị từ 10 đến 24. In danh sách các phần tử theo tứ tự đảo ngược của arr_h.\n",
    "\n",
    "# Tạo arr_h có giá trị từ 10 đến 24 :\n",
    "\n",
    "arr_h = np.arange(10,25)\n",
    "\n",
    "print('Mảng arr_h từ 10 đến 24 là : ')\n",
    "print(arr_h)\n",
    "\n",
    "# In danh sách các phần tử theo tứ tự đảo ngược của arr_h.\n",
    "\n",
    "print('Danh sách các phần tử theo thứ tự đảo ngược của arr_h là :',arr_h[::-1])"
   ]
  },
  {
   "cell_type": "code",
   "execution_count": 23,
   "metadata": {},
   "outputs": [
    {
     "name": "stdout",
     "output_type": "stream",
     "text": [
      "[1 2 8 2 1 3 5]\n"
     ]
    }
   ],
   "source": [
    "#3. Cho arr_k = np.array([1, 2, 0, 8, 2, 0, 1, 3, 0, 5, 0]), tạo arr_l từ arr_k với các phần tử khác 0.\n",
    "\n",
    "arr_k = np.array([1, 2, 0, 8, 2, 0, 1, 3, 0, 5, 0])\n",
    "\n",
    "arr_l = arr_k[arr_k != 0 ]\n",
    "\n",
    "print(arr_l)"
   ]
  },
  {
   "cell_type": "code",
   "execution_count": 24,
   "metadata": {},
   "outputs": [
    {
     "name": "stdout",
     "output_type": "stream",
     "text": [
      "Mảng sau khi được thêm là :\n",
      "[ 1  2  8  2  1  3  5 10 20]\n"
     ]
    }
   ],
   "source": [
    "#3. Từ arr_l của câu 3, thêm 2 phần tử có giá trị là 10 và 20 vào cuối array.\n",
    "\n",
    "arr_l = np.append(arr_l,[10,20])\n",
    "print('Mảng sau khi được thêm là :')\n",
    "print(arr_l)"
   ]
  },
  {
   "cell_type": "code",
   "execution_count": 33,
   "metadata": {},
   "outputs": [
    {
     "name": "stdout",
     "output_type": "stream",
     "text": [
      "Mảng sau khi được thêm là : \n",
      "[  1   2   8   2   1 100   3   5  10  20]\n"
     ]
    }
   ],
   "source": [
    "#5.Từ array của câu 4, thêm phần tử có giá trị 100 vào vị trí có index = 5 \n",
    "\n",
    "arr_l = np.array([1,2,8,2,1 ,3,5,10,20])\n",
    "\n",
    "arr_l = np.insert(arr_l, 5,100)\n",
    "print('Mảng sau khi được thêm là : ')\n",
    "print(arr_l)"
   ]
  },
  {
   "cell_type": "code",
   "execution_count": 40,
   "metadata": {},
   "outputs": [
    {
     "name": "stdout",
     "output_type": "stream",
     "text": [
      "Mảng sau khi được thêm là : \n",
      "[  2   1 100   3   5  10  20]\n"
     ]
    }
   ],
   "source": [
    "#6 .Từ array của câu 5, xóa các phần tử tại vị trí có index = 0, 1, 2.\n",
    "\n",
    "arr_l = np.array([ 1,2,8,2,1,100,3,5,10,20])\n",
    "\n",
    "arr_l = np.delete(arr_l,[0,1,2])\n",
    "\n",
    "print('Mảng sau khi được thêm là : ')\n",
    "print(arr_l)"
   ]
  }
 ],
 "metadata": {
  "kernelspec": {
   "display_name": "base",
   "language": "python",
   "name": "python3"
  },
  "language_info": {
   "codemirror_mode": {
    "name": "ipython",
    "version": 3
   },
   "file_extension": ".py",
   "mimetype": "text/x-python",
   "name": "python",
   "nbconvert_exporter": "python",
   "pygments_lexer": "ipython3",
   "version": "3.11.3"
  }
 },
 "nbformat": 4,
 "nbformat_minor": 2
}
