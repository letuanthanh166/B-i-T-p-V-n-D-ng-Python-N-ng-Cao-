{
 "cells": [
  {
   "cell_type": "code",
   "execution_count": 45,
   "metadata": {},
   "outputs": [],
   "source": [
    "import numpy as np \n",
    "import pandas as pd\n"
   ]
  },
  {
   "cell_type": "code",
   "execution_count": 58,
   "metadata": {},
   "outputs": [
    {
     "name": "stdout",
     "output_type": "stream",
     "text": [
      "[73]\n"
     ]
    }
   ],
   "source": [
    "# Đọc dữ liệu từ tệp tin : \n",
    "height = pd.read_csv('heights_1.txt', header=None, names=['height']).values.flatten()\n",
    "weight = pd.read_csv('weights_1.txt', header=None, names=['weight']).values.flatten()\n",
    "\n",
    "print(height)"
   ]
  },
  {
   "cell_type": "code",
   "execution_count": 47,
   "metadata": {},
   "outputs": [
    {
     "name": "stdout",
     "output_type": "stream",
     "text": [
      "arr_heghts: []\n"
     ]
    }
   ],
   "source": [
    "#1 .  Tạo numpy array arr_height từ list height.\n",
    "\n",
    "arr_height = np.array(height)\n",
    "\n",
    "print('arr_heghts:',arr_height)"
   ]
  },
  {
   "cell_type": "code",
   "execution_count": 48,
   "metadata": {},
   "outputs": [
    {
     "name": "stdout",
     "output_type": "stream",
     "text": [
      "arr_weights: [195]\n"
     ]
    }
   ],
   "source": [
    "#2 .Tạo numpy array arr_weight từ list weight.\n",
    "\n",
    "arr_weights = np.array(weight)\n",
    "\n",
    "print('arr_weights:',arr_weights)"
   ]
  },
  {
   "cell_type": "code",
   "execution_count": 49,
   "metadata": {},
   "outputs": [
    {
     "name": "stdout",
     "output_type": "stream",
     "text": [
      "[]\n"
     ]
    }
   ],
   "source": [
    "# 3. Cho hệ số quy đổi từ inch sang m là 0.0254, tạo arr_height_m dựa trên công thức: arr_height * hệ số quy đổi.\n",
    "\n",
    "he_so_quy_doi = 0.025\n",
    "\n",
    "arr_height_m = arr_height * he_so_quy_doi\n",
    "\n",
    "print(arr_height_m)"
   ]
  },
  {
   "cell_type": "code",
   "execution_count": 50,
   "metadata": {},
   "outputs": [
    {
     "name": "stdout",
     "output_type": "stream",
     "text": [
      "[88.45044]\n"
     ]
    }
   ],
   "source": [
    "#4. Cho hệ số quy đổi từ pound sang kg là 0.453592, tạo arr_weight_kg dựa trên công thức.\n",
    "he_so_quy_doi_weight = 0.453592\n",
    "arr_weight_kg = arr_weights * he_so_quy_doi_weight\n",
    "\n",
    "print(arr_weight_kg)"
   ]
  },
  {
   "cell_type": "code",
   "execution_count": 51,
   "metadata": {},
   "outputs": [
    {
     "name": "stdout",
     "output_type": "stream",
     "text": [
      "chỉ số BMI là : \n",
      " []\n"
     ]
    }
   ],
   "source": [
    "# 5. Tính BMI của arr_height_m và arr_weight_kg theo công thức BMI = Cân nặng / (Chiều cao * Chiều cao).\n",
    "arr_bmi = arr_weight_kg / (arr_height_m ** 2)\n",
    "\n",
    "print('chỉ số BMI là : \\n',arr_bmi)"
   ]
  },
  {
   "cell_type": "code",
   "execution_count": null,
   "metadata": {},
   "outputs": [],
   "source": [
    "# 6 :  Cho biết giá trị cân nặng ở vị trí index = 50 trong arr_weight_kg.\n",
    "weight_at_index_50 = arr_weight_kg[50]\n",
    "print(f\"Weight at index 50: {weight_at_index_50} kg\")"
   ]
  },
  {
   "cell_type": "code",
   "execution_count": null,
   "metadata": {},
   "outputs": [
    {
     "name": "stdout",
     "output_type": "stream",
     "text": [
      "[]\n"
     ]
    }
   ],
   "source": [
    "# 7. Tạo arr_height_m_100 từ vị trí index 100 đến 110 (bao gồm cả index 110) trong arr_height_m.\n",
    "arr_height_m_100 = arr_height_m[100:111]\n",
    "print(arr_height_m_100)"
   ]
  },
  {
   "cell_type": "code",
   "execution_count": null,
   "metadata": {},
   "outputs": [
    {
     "name": "stdout",
     "output_type": "stream",
     "text": [
      "Players with BMI < 21: []\n"
     ]
    }
   ],
   "source": [
    "# 8. Cho biết các cầu thủ bóng chày có bmi < 21 trong arr_bmi.\n",
    "bmi_less_than_21 = arr_bmi[arr_bmi < 21]\n",
    "print(\"Players with BMI < 21:\", bmi_less_than_21)"
   ]
  },
  {
   "cell_type": "code",
   "execution_count": null,
   "metadata": {},
   "outputs": [
    {
     "name": "stdout",
     "output_type": "stream",
     "text": [
      "Average height: 1.8250000000000002 m\n",
      "Average weight: 88.45044 kg\n"
     ]
    }
   ],
   "source": [
    "# 9. Cho biết chiều cao trung bình và cân nặng trung bình của các cầu thủ.\n",
    "average_height = np.mean(arr_height_m)\n",
    "average_weight = np.mean(arr_weight_kg)\n",
    "print(f\"Average height: {average_height} m\")\n",
    "print(f\"Average weight: {average_weight} kg\")\n"
   ]
  },
  {
   "cell_type": "code",
   "execution_count": null,
   "metadata": {},
   "outputs": [
    {
     "name": "stdout",
     "output_type": "stream",
     "text": [
      "Max height: 1.8250000000000002 m\n",
      "Max weight: 88.45044 kg\n"
     ]
    }
   ],
   "source": [
    "# 10. Cho biết chiều cao và cân nặng lớn nhất của các cầu thủ.\n",
    "max_height = np.max(arr_height_m)\n",
    "max_weight = np.max(arr_weight_kg)\n",
    "print(f\"Max height: {max_height} m\")\n",
    "print(f\"Max weight: {max_weight} kg\")"
   ]
  },
  {
   "cell_type": "code",
   "execution_count": null,
   "metadata": {},
   "outputs": [
    {
     "name": "stdout",
     "output_type": "stream",
     "text": [
      "Min height: 1.8250000000000002 m\n",
      "Min weight: 88.45044 kg\n"
     ]
    }
   ],
   "source": [
    "\n",
    "# 11. Cho biết chiều cao và cân nặng nhỏ nhất của các cầu thủ.\n",
    "min_height = np.min(arr_height_m)\n",
    "min_weight = np.min(arr_weight_kg)\n",
    "print(f\"Min height: {min_height} m\")\n",
    "print(f\"Min weight: {min_weight} kg\")"
   ]
  }
 ],
 "metadata": {
  "kernelspec": {
   "display_name": "base",
   "language": "python",
   "name": "python3"
  },
  "language_info": {
   "codemirror_mode": {
    "name": "ipython",
    "version": 3
   },
   "file_extension": ".py",
   "mimetype": "text/x-python",
   "name": "python",
   "nbconvert_exporter": "python",
   "pygments_lexer": "ipython3",
   "version": "3.11.3"
  }
 },
 "nbformat": 4,
 "nbformat_minor": 2
}
