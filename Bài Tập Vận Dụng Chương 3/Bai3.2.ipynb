{
 "cells": [
  {
   "cell_type": "code",
   "execution_count": 2,
   "metadata": {},
   "outputs": [
    {
     "name": "stdout",
     "output_type": "stream",
     "text": [
      "Hiển thị các phần tử có trong arr là :\n",
      "[0 1 2 3 4 5 6 7 8 9]\n",
      "Kiểu dữ liệu là : int32\n",
      "Kích thước của các phần tử là : (10,)\n"
     ]
    }
   ],
   "source": [
    "# 1. Tạo numpy array arr có giá trị từ 0-9. Hiển thị các phần tử có trong arr, xem kiểu dữ liệu và kích thước của arr.\n",
    "\n",
    "import numpy as np \n",
    "\n",
    "array_arr = np.array([0,1,2,3,4,5,6,7,8,9]) # cũng có thể dungf hàm np.arange(10)\n",
    "\n",
    "print('Hiển thị các phần tử có trong arr là :')\n",
    "print(array_arr)\n",
    "print('Kiểu dữ liệu là :',array_arr.dtype)\n",
    "print('Kích thước của các phần tử là :',array_arr.shape)"
   ]
  },
  {
   "cell_type": "code",
   "execution_count": 3,
   "metadata": {},
   "outputs": [
    {
     "name": "stdout",
     "output_type": "stream",
     "text": [
      "Mảng của phần tử lẻ là :\n",
      "[1 3 5 7 9]\n",
      "Mảng của phần tử chẵn là :\n",
      "[0 2 4 6 8]\n"
     ]
    }
   ],
   "source": [
    "# 2.Từ array arr ở câu 1 => tạo arr_odd và arr_even.\n",
    "# Phần tử lẻ :\n",
    "arr_odd = array_arr[array_arr % 2 != 0]\n",
    "print('Mảng của phần tử lẻ là :')\n",
    "print(arr_odd)\n",
    "\n",
    "# Phần tử chẵn :\n",
    "arr_even = array_arr[array_arr % 2 == 0]\n",
    "print(\"Mảng của phần tử chẵn là :\")\n",
    "print(arr_even)"
   ]
  },
  {
   "cell_type": "code",
   "execution_count": 4,
   "metadata": {},
   "outputs": [
    {
     "name": "stdout",
     "output_type": "stream",
     "text": [
      "[  0 100   2 100   4 100   6 100   8 100]\n"
     ]
    }
   ],
   "source": [
    "# 3.Từ array arr ở câu 1 => tạo arr_update_1 với các phần tử chẵn giữ nguyên, các phần tử lẻ thay bằng 100.\n",
    "\n",
    "arr_update_1 = np.where(array_arr % 2 == 0 , array_arr , 100 )\n",
    "\n",
    "print(arr_update_1)\n",
    " "
   ]
  }
 ],
 "metadata": {
  "kernelspec": {
   "display_name": "base",
   "language": "python",
   "name": "python3"
  },
  "language_info": {
   "codemirror_mode": {
    "name": "ipython",
    "version": 3
   },
   "file_extension": ".py",
   "mimetype": "text/x-python",
   "name": "python",
   "nbconvert_exporter": "python",
   "pygments_lexer": "ipython3",
   "version": "3.11.3"
  }
 },
 "nbformat": 4,
 "nbformat_minor": 2
}
