{
 "cells": [
  {
   "cell_type": "code",
   "execution_count": 19,
   "metadata": {},
   "outputs": [],
   "source": [
    "import numpy as np\n"
   ]
  },
  {
   "cell_type": "code",
   "execution_count": 20,
   "metadata": {},
   "outputs": [
    {
     "name": "stdout",
     "output_type": "stream",
     "text": [
      "Array arr:\n",
      "[[ True  True  True]\n",
      " [ True  True  True]\n",
      " [ True  True  True]]\n"
     ]
    }
   ],
   "source": [
    "# 1. Tạo array arr có kích thước 3x3 với các giá trị True\n",
    "arr = np.full((3, 3), True)\n",
    "print(\"Array arr:\")\n",
    "print(arr)"
   ]
  },
  {
   "cell_type": "code",
   "execution_count": 21,
   "metadata": {},
   "outputs": [
    {
     "name": "stdout",
     "output_type": "stream",
     "text": [
      "\n",
      "Array arr_2D:\n",
      "[[2 1 0]\n",
      " [5 4 3]\n",
      " [8 7 6]]\n"
     ]
    }
   ],
   "source": [
    "# 2. Tạo array 2 chiều từ arr_1D và chuyển cột 1 sang cột 3 và ngược lại\n",
    "arr_1D = np.array([0, 1, 2, 3, 4, 5, 6, 7, 8])\n",
    "arr_2D = arr_1D.reshape((3, 3))\n",
    "arr_2D[:, [0, 2]] = arr_2D[:, [2, 0]]\n",
    "print(\"\\nArray arr_2D:\")\n",
    "print(arr_2D)"
   ]
  },
  {
   "cell_type": "code",
   "execution_count": 22,
   "metadata": {},
   "outputs": [
    {
     "name": "stdout",
     "output_type": "stream",
     "text": [
      "\n",
      "3. Array arr_2D after swapping rows:\n",
      "[[5 4 3]\n",
      " [2 1 0]\n",
      " [8 7 6]]\n"
     ]
    }
   ],
   "source": [
    "# 3. Chuyển dòng 1 sang dòng 2 và ngược lại\n",
    "arr_2D[[0, 1], :] = arr_2D[[1, 0], :]\n",
    "print(\"\\n3. Array arr_2D after swapping rows:\")\n",
    "print(arr_2D)"
   ]
  },
  {
   "cell_type": "code",
   "execution_count": 23,
   "metadata": {},
   "outputs": [
    {
     "name": "stdout",
     "output_type": "stream",
     "text": [
      "\n",
      "Đảo ngược các dòng của arr_2D:\n",
      "[[8 7 6]\n",
      " [2 1 0]\n",
      " [5 4 3]]\n"
     ]
    }
   ],
   "source": [
    "# 4. Đảo ngược các dòng của arr_2D\n",
    "arr_2D = arr_2D[::-1, :]\n",
    "print(\"\\nĐảo ngược các dòng của arr_2D:\")\n",
    "print(arr_2D)"
   ]
  },
  {
   "cell_type": "code",
   "execution_count": 24,
   "metadata": {},
   "outputs": [
    {
     "name": "stdout",
     "output_type": "stream",
     "text": [
      "\n",
      "Đảo ngược các cột của arr_2D:\n",
      "[[6 7 8]\n",
      " [0 1 2]\n",
      " [3 4 5]]\n"
     ]
    }
   ],
   "source": [
    "# 5. Đảo ngược các cột của arr_2D\n",
    "arr_2D = arr_2D[:, ::-1]\n",
    "print(\"\\nĐảo ngược các cột của arr_2D:\")\n",
    "print(arr_2D)"
   ]
  },
  {
   "cell_type": "code",
   "execution_count": 25,
   "metadata": {},
   "outputs": [
    {
     "name": "stdout",
     "output_type": "stream",
     "text": [
      "\n",
      "Kiểm tra trong array có giá trị rỗng không : True\n"
     ]
    }
   ],
   "source": [
    "# 6. Kiểm tra trong array có giá trị rỗng không\n",
    "arr_2D_null = np.array([[1, 2, 3], [np.NaN, 5, 6], [7, np.NaN, 9], [4, 5, 6]])\n",
    "has_nan = np.isnan(arr_2D_null).any()\n",
    "print(\"\\nKiểm tra trong array có giá trị rỗng không :\", has_nan)"
   ]
  },
  {
   "cell_type": "code",
   "execution_count": 26,
   "metadata": {},
   "outputs": [
    {
     "name": "stdout",
     "output_type": "stream",
     "text": [
      "\n",
      "Thay thế giá trị null bằng 0:\n",
      "[[1. 2. 3.]\n",
      " [0. 5. 6.]\n",
      " [7. 0. 9.]\n",
      " [4. 5. 6.]]\n"
     ]
    }
   ],
   "source": [
    "# 7. Thay thế giá trị null bằng 0\n",
    "arr_2D_null[np.isnan(arr_2D_null)] = 0\n",
    "print(\"\\nThay thế giá trị null bằng 0:\")\n",
    "print(arr_2D_null)"
   ]
  }
 ],
 "metadata": {
  "kernelspec": {
   "display_name": "base",
   "language": "python",
   "name": "python3"
  },
  "language_info": {
   "codemirror_mode": {
    "name": "ipython",
    "version": 3
   },
   "file_extension": ".py",
   "mimetype": "text/x-python",
   "name": "python",
   "nbconvert_exporter": "python",
   "pygments_lexer": "ipython3",
   "version": "3.11.3"
  }
 },
 "nbformat": 4,
 "nbformat_minor": 2
}
