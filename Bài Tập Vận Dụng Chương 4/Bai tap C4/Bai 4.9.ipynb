{
 "cells": [
  {
   "cell_type": "code",
   "execution_count": 1,
   "metadata": {},
   "outputs": [
    {
     "ename": "NameError",
     "evalue": "name 'pd' is not defined",
     "output_type": "error",
     "traceback": [
      "\u001b[1;31m---------------------------------------------------------------------------\u001b[0m",
      "\u001b[1;31mNameError\u001b[0m                                 Traceback (most recent call last)",
      "Cell \u001b[1;32mIn[1], line 1\u001b[0m\n\u001b[1;32m----> 1\u001b[0m ser \u001b[38;5;241m=\u001b[39m \u001b[43mpd\u001b[49m\u001b[38;5;241m.\u001b[39mSeries(np\u001b[38;5;241m.\u001b[39mrandom\u001b[38;5;241m.\u001b[39mrandint(\u001b[38;5;241m1\u001b[39m, \u001b[38;5;241m10\u001b[39m, \u001b[38;5;241m35\u001b[39m))\n\u001b[0;32m      2\u001b[0m \u001b[38;5;66;03m#1. Ý nghĩa mã lệnh:\u001b[39;00m\n\u001b[0;32m      3\u001b[0m \u001b[38;5;66;03m# np.random.randint(1, 10, 35): Tạo một mảng numpy chứa 35 số nguyên ngẫu nhiên từ 1 đến 9.\u001b[39;00m\n\u001b[0;32m      4\u001b[0m \u001b[38;5;66;03m# pd.Series(...): Tạo một đối tượng Series từ mảng số nguyên vừa tạo.\u001b[39;00m\n\u001b[0;32m      5\u001b[0m \u001b[38;5;66;03m# Như vậy, đoạn mã này tạo ra một Series (ser) có 35 phần tử, mỗi phần tử là một số nguyên ngẫu nhiên từ 1 đến 9.\u001b[39;00m\n",
      "\u001b[1;31mNameError\u001b[0m: name 'pd' is not defined"
     ]
    }
   ],
   "source": [
    "ser = pd.Series(np.random.randint(1, 10, 35))\n",
    "#1. Ý nghĩa mã lệnh:\n",
    "# np.random.randint(1, 10, 35): Tạo một mảng numpy chứa 35 số nguyên ngẫu nhiên từ 1 đến 9.\n",
    "# pd.Series(...): Tạo một đối tượng Series từ mảng số nguyên vừa tạo.\n",
    "# Như vậy, đoạn mã này tạo ra một Series (ser) có 35 phần tử, mỗi phần tử là một số nguyên ngẫu nhiên từ 1 đến 9."
   ]
  },
  {
   "cell_type": "markdown",
   "metadata": {},
   "source": [
    "2. Định hình lại ser thành một DataFrame có 7 hàng và 5 cột"
   ]
  },
  {
   "cell_type": "code",
   "execution_count": null,
   "metadata": {},
   "outputs": [],
   "source": [
    "import pandas as pd\n",
    "import numpy as np\n",
    "\n",
    "ser = pd.Series(np.random.randint(1, 10, 35))"
   ]
  },
  {
   "cell_type": "code",
   "execution_count": null,
   "metadata": {},
   "outputs": [
    {
     "name": "stdout",
     "output_type": "stream",
     "text": [
      "   Col1  Col2  Col3  Col4  Col5\n",
      "0     7     8     9     6     4\n",
      "1     4     5     5     5     2\n",
      "2     7     3     9     7     7\n",
      "3     6     9     2     4     7\n",
      "4     3     9     2     3     9\n",
      "5     6     5     2     5     3\n",
      "6     2     1     4     8     8\n"
     ]
    }
   ],
   "source": [
    "df = pd.DataFrame(np.array(ser).reshape(7, 5), columns=['Col1', 'Col2', 'Col3', 'Col4', 'Col5'])\n",
    "print(df)"
   ]
  }
 ],
 "metadata": {
  "kernelspec": {
   "display_name": "base",
   "language": "python",
   "name": "python3"
  },
  "language_info": {
   "codemirror_mode": {
    "name": "ipython",
    "version": 3
   },
   "file_extension": ".py",
   "mimetype": "text/x-python",
   "name": "python",
   "nbconvert_exporter": "python",
   "pygments_lexer": "ipython3",
   "version": "3.11.3"
  }
 },
 "nbformat": 4,
 "nbformat_minor": 2
}
